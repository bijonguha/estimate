{
 "cells": [
  {
   "cell_type": "code",
   "execution_count": 9,
   "id": "36c38e05-e326-4b27-8db2-8fb26c35908d",
   "metadata": {},
   "outputs": [
    {
     "name": "stdout",
     "output_type": "stream",
     "text": [
      "53\n"
     ]
    }
   ],
   "source": [
    "from dotenv import load_dotenv\n",
    "load_dotenv()\n",
    "\n",
    "from langchain_community.document_loaders import PyPDFLoader\n",
    "\n",
    "file_path = \"pdfs/a_darwin-pipeline-duplication-process_2023.pdf\"\n",
    "loader = PyPDFLoader(file_path)\n",
    "\n",
    "docs = loader.load()\n",
    "\n",
    "print(len(docs))"
   ]
  },
  {
   "cell_type": "code",
   "execution_count": 4,
   "id": "d8e8db51-67fe-4056-bfa0-c3a098396293",
   "metadata": {},
   "outputs": [
    {
     "name": "stdout",
     "output_type": "stream",
     "text": [
      "Assessment Report 106\n",
      "A\n",
      "ssessment by supplementary environmental report \n",
      "D\n",
      "arwin Pipeline Duplicatio\n"
     ]
    }
   ],
   "source": [
    "print(docs[0].page_content[0:100])"
   ]
  },
  {
   "cell_type": "code",
   "execution_count": 5,
   "id": "423a4a05-e3bc-4157-bdea-a9f0074a20a8",
   "metadata": {},
   "outputs": [
    {
     "name": "stdout",
     "output_type": "stream",
     "text": [
      "{'source': 'pdfs/a_darwin-pipeline-duplication-process_2023.pdf', 'page': 0}\n"
     ]
    }
   ],
   "source": [
    "print(docs[0].metadata)"
   ]
  },
  {
   "cell_type": "code",
   "execution_count": 13,
   "id": "9833c1e6-e0eb-46ff-8347-48dae987a930",
   "metadata": {},
   "outputs": [],
   "source": [
    "import os\n",
    "\n",
    "os.environ[\"OPENAI_API_KEY\"] = os.getenv(\"OPENAI_API_KEY\")\n",
    "\n",
    "from langchain_openai import ChatOpenAI\n",
    "\n",
    "llm = ChatOpenAI(model=\"gpt-4o\")"
   ]
  },
  {
   "cell_type": "code",
   "execution_count": 7,
   "id": "5dc9fdb6-01d1-4715-abc0-95977e4a13f5",
   "metadata": {},
   "outputs": [],
   "source": [
    "from langchain_chroma import Chroma\n",
    "from langchain_openai import OpenAIEmbeddings\n",
    "from langchain_text_splitters import RecursiveCharacterTextSplitter\n",
    "\n",
    "text_splitter = RecursiveCharacterTextSplitter(chunk_size=1000, chunk_overlap=200)\n",
    "splits = text_splitter.split_documents(docs)\n",
    "vectorstore = Chroma.from_documents(documents=splits, embedding=OpenAIEmbeddings())\n",
    "\n",
    "retriever = vectorstore.as_retriever()"
   ]
  },
  {
   "cell_type": "code",
   "execution_count": 8,
   "id": "51d3cbb3-c53d-4bf6-acdc-3d9b55579673",
   "metadata": {},
   "outputs": [
    {
     "data": {
      "text/plain": [
       "{'input': 'What was Darwin Pipeline Duplication ?',\n",
       " 'context': [Document(metadata={'page': 41, 'source': 'pdfs/a_darwin-pipeline-duplication-process_2023.pdf'}, page_content='Draft Environmental Approval \\nPa ge 1 of 11 \\nPURSUANT TO SECTION 69 OF THE ENVIRONMENT PROTECTION ACT 2019 \\nApproval number EP2022/022-001 \\nApproval holder Santos NA Barossa Pty Ltd \\nAustralian business number (ABN) 44 109 974 932 \\nRegistered business address 60 Flinders Street, Adelaide SA 5000 \\nAction Darwin Pipeline Duplication \\nAction description \\nConstruction, commissioning, operation and decommissioning of the Darwin Pipeline \\nDuplication Project. The action is for a section of the Barossa gas pipeline that will \\ntransport gas from the Timor Sea to the existing Darwin liquefied natural gas facility. The \\napproved action includes an approximately 100 km section of pipeline in NT waters, a \\nspoil disposal area, and a shore crossing at Wickham Point in the Greater Darwin Area. \\nConstruction of the pipeline will include: \\n• pipe laying,\\n• placement of no more than 500,000 tonnes of rock during backfill and\\nstabilisation of the pipeline, and'),\n",
       "  Document(metadata={'page': 0, 'source': 'pdfs/a_darwin-pipeline-duplication-process_2023.pdf'}, page_content='Assessment Report 106\\nA\\nssessment by supplementary environmental report \\nD\\narwin Pipeline Duplication Project \\nSantos NA Barossa Pty Ltd \\nNovember 2023'),\n",
       "  Document(metadata={'page': 4, 'source': 'pdfs/a_darwin-pipeline-duplication-process_2023.pdf'}, page_content='NORTHERN TERRITORY ENVIRONMENT PROTECTION AUTHORITY 5 \\n \\n1. Introduction \\nThis assessment report has been prepared by the Northern Territory Environmental Protection \\nAuthority (NT EPA) pursuant to section 64 of the Environment Protection Act 2019 (EP Act). It \\nprovides an evaluation of the potential significant impacts of the Darwin Pipeline Duplication \\n(DPD) Project (proposed action). \\nThe proponent is Santos Barossa NA Pty Ltd (Australian company number 109 974 932). Joint \\nventure partners include Santos Offshore Pty Ltd (ACN 005 475 589), SK E&S Australia Pty Ltd \\n(ACN 158 702 071) and JERA Barossa Pty Ltd (ACN 654 004 387).  \\nThe proposed action is a component of the Barossa Gas Project. The Barossa Gas Project involves \\nthe development of the Barossa gas field through the construction of subsea wells and \\ninfrastructure tied into a new offshore floating petroleum storage and offloading facility (FPSO)'),\n",
       "  Document(metadata={'page': 1, 'source': 'pdfs/a_darwin-pipeline-duplication-process_2023.pdf'}, page_content='NORTHERN TERRITORY ENVIRONMENT PROTECTION AUTHORITY 2 \\n \\nThis assessment report has been prepared by the Northern Territory Environment Protection \\nAuthority (NT EPA) pursuant to section 64 of the Environment Protection Act 2019 (NT) (EP Act). It \\ndescribes the outcomes of the NT EPA’s assessment of the Darwin Pipeline Duplication Project.  \\nThe assessment report documents potential environmental impacts and risks identified during the \\nenvironmental impact assessment process, focusing on those that could be significant, and the \\nmeasures and recommended conditions required to address potentially significant impacts.  \\nIn accordance with section 65 of the EP Act, the assessment report is for the NT Minister for \\nEnvironment to consider when making a decision about whether to approve the action under the \\nEP Act.  \\n \\n \\n \\nDr Paul Vogel AM \\nNT EPA Chairperson \\n \\n \\n16 November 2023 \\n \\n \\n \\n \\n \\n \\n \\n \\n \\n \\n \\n \\nNorthern Territory Environment Protection Authority \\nGPO Box 3675 \\nDarwin')],\n",
       " 'answer': 'The Darwin Pipeline Duplication Project involves the construction, commissioning, operation, and decommissioning of a pipeline section as part of the Barossa Gas Project. This project includes an approximately 100 km section of pipeline in Northern Territory waters, a spoil disposal area, and a shore crossing at Wickham Point in the Greater Darwin Area. Its purpose is to transport gas from the Timor Sea to the existing Darwin liquefied natural gas facility.'}"
      ]
     },
     "execution_count": 8,
     "metadata": {},
     "output_type": "execute_result"
    }
   ],
   "source": [
    "from langchain.chains import create_retrieval_chain\n",
    "from langchain.chains.combine_documents import create_stuff_documents_chain\n",
    "from langchain_core.prompts import ChatPromptTemplate\n",
    "\n",
    "system_prompt = (\n",
    "    \"You are an assistant for question-answering tasks. \"\n",
    "    \"Use the following pieces of retrieved context to answer \"\n",
    "    \"the question. If you don't know the answer, say that you \"\n",
    "    \"don't know. Use three sentences maximum and keep the \"\n",
    "    \"answer concise.\"\n",
    "    \"\\n\\n\"\n",
    "    \"{context}\"\n",
    ")\n",
    "\n",
    "prompt = ChatPromptTemplate.from_messages(\n",
    "    [\n",
    "        (\"system\", system_prompt),\n",
    "        (\"human\", \"{input}\"),\n",
    "    ]\n",
    ")\n",
    "\n",
    "\n",
    "question_answer_chain = create_stuff_documents_chain(llm, prompt)\n",
    "rag_chain = create_retrieval_chain(retriever, question_answer_chain)\n",
    "\n",
    "results = rag_chain.invoke({\"input\": \"What was Darwin Pipeline Duplication ?\"})\n",
    "\n",
    "results"
   ]
  },
  {
   "cell_type": "code",
   "execution_count": null,
   "id": "a0dc80a0-55b8-46bc-8a99-c57c73175b2f",
   "metadata": {},
   "outputs": [],
   "source": []
  }
 ],
 "metadata": {
  "kernelspec": {
   "display_name": "Python 3 (ipykernel)",
   "language": "python",
   "name": "python3"
  },
  "language_info": {
   "codemirror_mode": {
    "name": "ipython",
    "version": 3
   },
   "file_extension": ".py",
   "mimetype": "text/x-python",
   "name": "python",
   "nbconvert_exporter": "python",
   "pygments_lexer": "ipython3",
   "version": "3.10.11"
  }
 },
 "nbformat": 4,
 "nbformat_minor": 5
}
